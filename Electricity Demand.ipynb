{
 "cells": [
  {
   "cell_type": "markdown",
   "metadata": {},
   "source": [
    "# Power - Demand and Consumption\n",
    "\n",
    "In this Ipython notebook, we are going to analyze electricity consumption data from a house. We have a  time-series dataset which contains the power(kWh), Cost of electricity and Voltage at a particular time stamp. We are further provided with the temperature records during the same day for each hour.\n",
    "\n",
    "First part is the Data Analysis Part where we will be doing the basic data cleaning and analysis regarding the power demand and cost incurred. The second part employs a KMeans clustering approach to identify which appliance might be the major cause for the power demand in a particular hour of the day."
   ]
  },
  {
   "cell_type": "code",
   "execution_count": 271,
   "metadata": {
    "collapsed": true
   },
   "outputs": [],
   "source": [
    "import numpy as np\n",
    "import pandas as pd\n",
    "import matplotlib.pyplot as plt"
   ]
  },
  {
   "cell_type": "code",
   "execution_count": 272,
   "metadata": {
    "collapsed": false
   },
   "outputs": [],
   "source": [
    "# Read the sensor dataset into pandas dataframe\n",
    "sensor_data = pd.read_csv('merged-sensor-files.csv',\n",
    "                          names=[\"MTU\", \"Time\", \"Power\", \"Cost\", \"Voltage\"], header = False)\n",
    "\n",
    "# Read the weather data in pandas series object\n",
    "weather_data = pd.read_json('weather.json', typ ='series')"
   ]
  },
  {
   "cell_type": "code",
   "execution_count": 273,
   "metadata": {
    "collapsed": false
   },
   "outputs": [
    {
     "data": {
      "text/html": [
       "<div style=\"max-height:1000px;max-width:1500px;overflow:auto;\">\n",
       "<table border=\"1\" class=\"dataframe\">\n",
       "  <thead>\n",
       "    <tr style=\"text-align: right;\">\n",
       "      <th></th>\n",
       "      <th>MTU</th>\n",
       "      <th>Time</th>\n",
       "      <th>Power</th>\n",
       "      <th>Cost</th>\n",
       "      <th>Voltage</th>\n",
       "    </tr>\n",
       "  </thead>\n",
       "  <tbody>\n",
       "    <tr>\n",
       "      <th>0</th>\n",
       "      <td>MTU1</td>\n",
       "      <td>05/11/2015 19:59:06</td>\n",
       "      <td>4.102</td>\n",
       "      <td>0.62</td>\n",
       "      <td>122.4</td>\n",
       "    </tr>\n",
       "    <tr>\n",
       "      <th>1</th>\n",
       "      <td>MTU1</td>\n",
       "      <td>05/11/2015 19:59:05</td>\n",
       "      <td>4.089</td>\n",
       "      <td>0.62</td>\n",
       "      <td>122.3</td>\n",
       "    </tr>\n",
       "    <tr>\n",
       "      <th>2</th>\n",
       "      <td>MTU1</td>\n",
       "      <td>05/11/2015 19:59:04</td>\n",
       "      <td>4.089</td>\n",
       "      <td>0.62</td>\n",
       "      <td>122.3</td>\n",
       "    </tr>\n",
       "    <tr>\n",
       "      <th>3</th>\n",
       "      <td>MTU1</td>\n",
       "      <td>05/11/2015 19:59:06</td>\n",
       "      <td>4.089</td>\n",
       "      <td>0.62</td>\n",
       "      <td>122.3</td>\n",
       "    </tr>\n",
       "    <tr>\n",
       "      <th>4</th>\n",
       "      <td>MTU1</td>\n",
       "      <td>05/11/2015 19:59:04</td>\n",
       "      <td>4.097</td>\n",
       "      <td>0.62</td>\n",
       "      <td>122.4</td>\n",
       "    </tr>\n",
       "  </tbody>\n",
       "</table>\n",
       "</div>"
      ],
      "text/plain": [
       "    MTU                 Time  Power  Cost Voltage\n",
       "0  MTU1  05/11/2015 19:59:06  4.102  0.62   122.4\n",
       "1  MTU1  05/11/2015 19:59:05  4.089  0.62   122.3\n",
       "2  MTU1  05/11/2015 19:59:04  4.089  0.62   122.3\n",
       "3  MTU1  05/11/2015 19:59:06  4.089  0.62   122.3\n",
       "4  MTU1  05/11/2015 19:59:04  4.097  0.62   122.4"
      ]
     },
     "execution_count": 273,
     "metadata": {},
     "output_type": "execute_result"
    }
   ],
   "source": [
    "# A quick look at the datasets\n",
    "sensor_data.head(5)"
   ]
  },
  {
   "cell_type": "code",
   "execution_count": 274,
   "metadata": {
    "collapsed": false
   },
   "outputs": [
    {
     "data": {
      "text/plain": [
       "2015-05-12 00:00:00    75.4\n",
       "2015-05-12 01:00:00    73.2\n",
       "2015-05-12 02:00:00    72.1\n",
       "2015-05-12 03:00:00    71.0\n",
       "2015-05-12 04:00:00    70.7\n",
       "2015-05-12 05:00:00    69.6\n",
       "2015-05-12 06:00:00    69.0\n",
       "2015-05-12 07:00:00    68.8\n",
       "2015-05-12 08:00:00    69.2\n",
       "2015-05-12 09:00:00    67.9\n",
       "2015-05-12 10:00:00    68.6\n",
       "2015-05-12 11:00:00    68.7\n",
       "2015-05-12 12:00:00    72.1\n",
       "2015-05-12 13:00:00    76.2\n",
       "2015-05-12 14:00:00    80.1\n",
       "2015-05-12 15:00:00    80.7\n",
       "2015-05-12 16:00:00    80.9\n",
       "2015-05-12 17:00:00    83.3\n",
       "2015-05-12 18:00:00    84.5\n",
       "2015-05-12 19:00:00    85.1\n",
       "2015-05-12 20:00:00    87.0\n",
       "2015-05-12 21:00:00    84.2\n",
       "2015-05-12 22:00:00    84.4\n",
       "2015-05-12 23:00:00    83.0\n",
       "2015-05-13 00:00:00    81.1\n",
       "dtype: float64"
      ]
     },
     "execution_count": 274,
     "metadata": {},
     "output_type": "execute_result"
    }
   ],
   "source": [
    "weather_data"
   ]
  },
  {
   "cell_type": "markdown",
   "metadata": {},
   "source": [
    "# TASK 1: Data Analysis\n",
    "\n",
    "### Data Cleaning/Munging:\n",
    "After having a look at the <b>merged-sensor-files.csv</b> I found out there are some inconsistent rows where header names are repeated and as a result 'pandas' is converting all these columns to 'object' type."
   ]
  },
  {
   "cell_type": "code",
   "execution_count": 275,
   "metadata": {
    "collapsed": false
   },
   "outputs": [
    {
     "data": {
      "text/plain": [
       "MTU        object\n",
       "Time       object\n",
       "Power      object\n",
       "Cost       object\n",
       "Voltage    object\n",
       "dtype: object"
      ]
     },
     "execution_count": 275,
     "metadata": {},
     "output_type": "execute_result"
    }
   ],
   "source": [
    "sensor_data.dtypes"
   ]
  },
  {
   "cell_type": "markdown",
   "metadata": {},
   "source": [
    "Let's find out and remove these inconsistent rows so that all the columns can be converted to appropriated data types. "
   ]
  },
  {
   "cell_type": "code",
   "execution_count": 276,
   "metadata": {
    "collapsed": false
   },
   "outputs": [
    {
     "data": {
      "text/plain": [
       "[3784,\n",
       " 7582,\n",
       " 11385,\n",
       " 15004,\n",
       " 18773,\n",
       " 22363,\n",
       " 26049,\n",
       " 29795,\n",
       " 33554,\n",
       " 37193,\n",
       " 40951,\n",
       " 44563,\n",
       " 48227,\n",
       " 51934,\n",
       " 55660,\n",
       " 59431,\n",
       " 63041,\n",
       " 66706,\n",
       " 70468,\n",
       " 74305,\n",
       " 77951,\n",
       " 81617,\n",
       " 85327]"
      ]
     },
     "execution_count": 276,
     "metadata": {},
     "output_type": "execute_result"
    }
   ],
   "source": [
    "# Get the inconsistent rows indexes\n",
    "faulty_row_idx = sensor_data[sensor_data[\"Power\"] == \" Power\"].index.tolist()\n",
    "faulty_row_idx"
   ]
  },
  {
   "cell_type": "code",
   "execution_count": 277,
   "metadata": {
    "collapsed": false
   },
   "outputs": [
    {
     "data": {
      "text/plain": [
       "[]"
      ]
     },
     "execution_count": 277,
     "metadata": {},
     "output_type": "execute_result"
    }
   ],
   "source": [
    "# Drop these rows from sensor_data dataframe\n",
    "sensor_data.drop(faulty_row_idx, inplace=True)\n",
    "\n",
    "# This should return an empty list now\n",
    "sensor_data[sensor_data[\"Power\"] == \" Power\"].index.tolist()"
   ]
  },
  {
   "cell_type": "markdown",
   "metadata": {},
   "source": [
    "We have cleaned up the sensor_data and now these can be converted to more appropriate data types."
   ]
  },
  {
   "cell_type": "code",
   "execution_count": 278,
   "metadata": {
    "collapsed": false
   },
   "outputs": [
    {
     "data": {
      "text/plain": [
       "MTU                object\n",
       "Time       datetime64[ns]\n",
       "Power             float64\n",
       "Cost              float64\n",
       "Voltage           float64\n",
       "Hour                int32\n",
       "dtype: object"
      ]
     },
     "execution_count": 278,
     "metadata": {},
     "output_type": "execute_result"
    }
   ],
   "source": [
    "# Type Conversion\n",
    "sensor_data[[\"Power\", \"Cost\", \"Voltage\"]] = sensor_data[[\"Power\", \"Cost\", \"Voltage\"]].astype(float)\n",
    "sensor_data[[\"Time\"]] = pd.to_datetime(sensor_data[\"Time\"])\n",
    "\n",
    "# Also add an 'Hour' column in sensor_data\n",
    "sensor_data['Hour'] = pd.DatetimeIndex(sensor_data[\"Time\"]).hour\n",
    "\n",
    "sensor_data.dtypes"
   ]
  },
  {
   "cell_type": "markdown",
   "metadata": {},
   "source": [
    "This is better now. We have got clearly defined datatypes of different columns now. Next step is to convert the weather_data Series to a dataframe so that we can work with it with more ease."
   ]
  },
  {
   "cell_type": "code",
   "execution_count": 279,
   "metadata": {
    "collapsed": false
   },
   "outputs": [
    {
     "data": {
      "text/plain": [
       "Time           datetime64[ns]\n",
       "Temperature           float64\n",
       "Hour                    int32\n",
       "dtype: object"
      ]
     },
     "execution_count": 279,
     "metadata": {},
     "output_type": "execute_result"
    }
   ],
   "source": [
    "# Create a dataframe out of weather dataset as well\n",
    "temperature_data = weather_data.to_frame()\n",
    "\n",
    "# Reindex it so as to create a two column dataframe\n",
    "temperature_data.reset_index(level=0, inplace=True)\n",
    "temperature_data.columns = [\"Time\", \"Temperature\"]\n",
    "\n",
    "# Add the \"Hour\" column in temperature_data\n",
    "temperature_data[\"Hour\"] = pd.DatetimeIndex(temperature_data[\"Time\"]).hour\n",
    "\n",
    "temperature_data.dtypes"
   ]
  },
  {
   "cell_type": "markdown",
   "metadata": {},
   "source": [
    "Since now we have both of our dataframes in place, it'd be a good point to have a look at sum of the basic statistics of both of these data frames."
   ]
  },
  {
   "cell_type": "code",
   "execution_count": 280,
   "metadata": {
    "collapsed": false
   },
   "outputs": [
    {
     "data": {
      "text/html": [
       "<div style=\"max-height:1000px;max-width:1500px;overflow:auto;\">\n",
       "<table border=\"1\" class=\"dataframe\">\n",
       "  <thead>\n",
       "    <tr style=\"text-align: right;\">\n",
       "      <th></th>\n",
       "      <th>Power</th>\n",
       "      <th>Cost</th>\n",
       "      <th>Voltage</th>\n",
       "      <th>Hour</th>\n",
       "    </tr>\n",
       "  </thead>\n",
       "  <tbody>\n",
       "    <tr>\n",
       "      <th>count</th>\n",
       "      <td>88891.000000</td>\n",
       "      <td>88891.000000</td>\n",
       "      <td>88891.000000</td>\n",
       "      <td>88891.000000</td>\n",
       "    </tr>\n",
       "    <tr>\n",
       "      <th>mean</th>\n",
       "      <td>1.315980</td>\n",
       "      <td>0.202427</td>\n",
       "      <td>123.127744</td>\n",
       "      <td>11.531865</td>\n",
       "    </tr>\n",
       "    <tr>\n",
       "      <th>std</th>\n",
       "      <td>1.682181</td>\n",
       "      <td>0.252357</td>\n",
       "      <td>0.838768</td>\n",
       "      <td>6.921671</td>\n",
       "    </tr>\n",
       "    <tr>\n",
       "      <th>min</th>\n",
       "      <td>0.113000</td>\n",
       "      <td>0.020000</td>\n",
       "      <td>121.000000</td>\n",
       "      <td>0.000000</td>\n",
       "    </tr>\n",
       "    <tr>\n",
       "      <th>25%</th>\n",
       "      <td>0.255000</td>\n",
       "      <td>0.040000</td>\n",
       "      <td>122.600000</td>\n",
       "      <td>6.000000</td>\n",
       "    </tr>\n",
       "    <tr>\n",
       "      <th>50%</th>\n",
       "      <td>0.367000</td>\n",
       "      <td>0.060000</td>\n",
       "      <td>123.100000</td>\n",
       "      <td>12.000000</td>\n",
       "    </tr>\n",
       "    <tr>\n",
       "      <th>75%</th>\n",
       "      <td>1.765000</td>\n",
       "      <td>0.270000</td>\n",
       "      <td>123.700000</td>\n",
       "      <td>18.000000</td>\n",
       "    </tr>\n",
       "    <tr>\n",
       "      <th>max</th>\n",
       "      <td>6.547000</td>\n",
       "      <td>0.990000</td>\n",
       "      <td>125.600000</td>\n",
       "      <td>23.000000</td>\n",
       "    </tr>\n",
       "  </tbody>\n",
       "</table>\n",
       "</div>"
      ],
      "text/plain": [
       "              Power          Cost       Voltage          Hour\n",
       "count  88891.000000  88891.000000  88891.000000  88891.000000\n",
       "mean       1.315980      0.202427    123.127744     11.531865\n",
       "std        1.682181      0.252357      0.838768      6.921671\n",
       "min        0.113000      0.020000    121.000000      0.000000\n",
       "25%        0.255000      0.040000    122.600000      6.000000\n",
       "50%        0.367000      0.060000    123.100000     12.000000\n",
       "75%        1.765000      0.270000    123.700000     18.000000\n",
       "max        6.547000      0.990000    125.600000     23.000000"
      ]
     },
     "execution_count": 280,
     "metadata": {},
     "output_type": "execute_result"
    }
   ],
   "source": [
    "sensor_data.describe()"
   ]
  },
  {
   "cell_type": "code",
   "execution_count": 281,
   "metadata": {
    "collapsed": false,
    "scrolled": true
   },
   "outputs": [
    {
     "data": {
      "text/html": [
       "<div style=\"max-height:1000px;max-width:1500px;overflow:auto;\">\n",
       "<table border=\"1\" class=\"dataframe\">\n",
       "  <thead>\n",
       "    <tr style=\"text-align: right;\">\n",
       "      <th></th>\n",
       "      <th>Temperature</th>\n",
       "      <th>Hour</th>\n",
       "    </tr>\n",
       "  </thead>\n",
       "  <tbody>\n",
       "    <tr>\n",
       "      <th>count</th>\n",
       "      <td>25.000000</td>\n",
       "      <td>25.00000</td>\n",
       "    </tr>\n",
       "    <tr>\n",
       "      <th>mean</th>\n",
       "      <td>76.272000</td>\n",
       "      <td>11.04000</td>\n",
       "    </tr>\n",
       "    <tr>\n",
       "      <th>std</th>\n",
       "      <td>6.635355</td>\n",
       "      <td>7.29429</td>\n",
       "    </tr>\n",
       "    <tr>\n",
       "      <th>min</th>\n",
       "      <td>67.900000</td>\n",
       "      <td>0.00000</td>\n",
       "    </tr>\n",
       "    <tr>\n",
       "      <th>25%</th>\n",
       "      <td>69.600000</td>\n",
       "      <td>5.00000</td>\n",
       "    </tr>\n",
       "    <tr>\n",
       "      <th>50%</th>\n",
       "      <td>75.400000</td>\n",
       "      <td>11.00000</td>\n",
       "    </tr>\n",
       "    <tr>\n",
       "      <th>75%</th>\n",
       "      <td>83.000000</td>\n",
       "      <td>17.00000</td>\n",
       "    </tr>\n",
       "    <tr>\n",
       "      <th>max</th>\n",
       "      <td>87.000000</td>\n",
       "      <td>23.00000</td>\n",
       "    </tr>\n",
       "  </tbody>\n",
       "</table>\n",
       "</div>"
      ],
      "text/plain": [
       "       Temperature      Hour\n",
       "count    25.000000  25.00000\n",
       "mean     76.272000  11.04000\n",
       "std       6.635355   7.29429\n",
       "min      67.900000   0.00000\n",
       "25%      69.600000   5.00000\n",
       "50%      75.400000  11.00000\n",
       "75%      83.000000  17.00000\n",
       "max      87.000000  23.00000"
      ]
     },
     "execution_count": 281,
     "metadata": {},
     "output_type": "execute_result"
    }
   ],
   "source": [
    "temperature_data.describe()"
   ]
  },
  {
   "cell_type": "markdown",
   "metadata": {},
   "source": [
    "As apparent from above statistics there is a good amount of variation in <b>Power</b> and corresponding <b>Cost</b> values in <b>sensor_data</b> dataframe, where average power is <b>1.315980kW</b> and minimum and maximum power used throughout the day is <b>0.11kW</b> and <b>6.54kW</b> respectively. Similarily there is an apparent variation in temperature in <b>temperature_data</b> dataset, most probably it attributes to day and night time. <br/><br/>\n",
    "To get a better understanding of these variations we'll be plotting power and temperatures with the timestamps, so as to find out the peak times for both.<br><br>\n",
    "But before moving to visualizations we'll have to create respective grouped datasets from <b>sensor_data</b> and <b>temperature_date</b>, grouping by the \"Hour\" column. This way we can work on hourly basis."
   ]
  },
  {
   "cell_type": "code",
   "execution_count": 282,
   "metadata": {
    "collapsed": false
   },
   "outputs": [
    {
     "data": {
      "text/html": [
       "<div style=\"max-height:1000px;max-width:1500px;overflow:auto;\">\n",
       "<table border=\"1\" class=\"dataframe\">\n",
       "  <thead>\n",
       "    <tr style=\"text-align: right;\">\n",
       "      <th></th>\n",
       "      <th>Hour</th>\n",
       "      <th>Power</th>\n",
       "      <th>Cost</th>\n",
       "      <th>Voltage</th>\n",
       "    </tr>\n",
       "  </thead>\n",
       "  <tbody>\n",
       "    <tr>\n",
       "      <th>0</th>\n",
       "      <td>0</td>\n",
       "      <td>0.173790</td>\n",
       "      <td>0.029468</td>\n",
       "      <td>124.723879</td>\n",
       "    </tr>\n",
       "    <tr>\n",
       "      <th>1</th>\n",
       "      <td>1</td>\n",
       "      <td>0.179594</td>\n",
       "      <td>0.033805</td>\n",
       "      <td>124.522469</td>\n",
       "    </tr>\n",
       "    <tr>\n",
       "      <th>2</th>\n",
       "      <td>2</td>\n",
       "      <td>0.185763</td>\n",
       "      <td>0.037013</td>\n",
       "      <td>123.929979</td>\n",
       "    </tr>\n",
       "    <tr>\n",
       "      <th>3</th>\n",
       "      <td>3</td>\n",
       "      <td>0.184510</td>\n",
       "      <td>0.036815</td>\n",
       "      <td>124.174454</td>\n",
       "    </tr>\n",
       "    <tr>\n",
       "      <th>4</th>\n",
       "      <td>4</td>\n",
       "      <td>0.181104</td>\n",
       "      <td>0.036366</td>\n",
       "      <td>123.847801</td>\n",
       "    </tr>\n",
       "    <tr>\n",
       "      <th>5</th>\n",
       "      <td>5</td>\n",
       "      <td>0.184242</td>\n",
       "      <td>0.036693</td>\n",
       "      <td>122.790974</td>\n",
       "    </tr>\n",
       "    <tr>\n",
       "      <th>6</th>\n",
       "      <td>6</td>\n",
       "      <td>0.672423</td>\n",
       "      <td>0.106142</td>\n",
       "      <td>123.375132</td>\n",
       "    </tr>\n",
       "    <tr>\n",
       "      <th>7</th>\n",
       "      <td>7</td>\n",
       "      <td>0.977755</td>\n",
       "      <td>0.150614</td>\n",
       "      <td>123.722441</td>\n",
       "    </tr>\n",
       "    <tr>\n",
       "      <th>8</th>\n",
       "      <td>8</td>\n",
       "      <td>0.382392</td>\n",
       "      <td>0.060904</td>\n",
       "      <td>122.997544</td>\n",
       "    </tr>\n",
       "    <tr>\n",
       "      <th>9</th>\n",
       "      <td>9</td>\n",
       "      <td>0.168447</td>\n",
       "      <td>0.027770</td>\n",
       "      <td>122.675906</td>\n",
       "    </tr>\n",
       "    <tr>\n",
       "      <th>10</th>\n",
       "      <td>10</td>\n",
       "      <td>0.373942</td>\n",
       "      <td>0.058812</td>\n",
       "      <td>122.986207</td>\n",
       "    </tr>\n",
       "    <tr>\n",
       "      <th>11</th>\n",
       "      <td>11</td>\n",
       "      <td>0.383065</td>\n",
       "      <td>0.059837</td>\n",
       "      <td>123.500554</td>\n",
       "    </tr>\n",
       "    <tr>\n",
       "      <th>12</th>\n",
       "      <td>12</td>\n",
       "      <td>0.378432</td>\n",
       "      <td>0.059604</td>\n",
       "      <td>122.783133</td>\n",
       "    </tr>\n",
       "    <tr>\n",
       "      <th>13</th>\n",
       "      <td>13</td>\n",
       "      <td>0.380076</td>\n",
       "      <td>0.059766</td>\n",
       "      <td>122.991571</td>\n",
       "    </tr>\n",
       "    <tr>\n",
       "      <th>14</th>\n",
       "      <td>14</td>\n",
       "      <td>0.378020</td>\n",
       "      <td>0.059666</td>\n",
       "      <td>122.815359</td>\n",
       "    </tr>\n",
       "    <tr>\n",
       "      <th>15</th>\n",
       "      <td>15</td>\n",
       "      <td>0.376586</td>\n",
       "      <td>0.059619</td>\n",
       "      <td>122.464499</td>\n",
       "    </tr>\n",
       "    <tr>\n",
       "      <th>16</th>\n",
       "      <td>16</td>\n",
       "      <td>4.365774</td>\n",
       "      <td>0.659342</td>\n",
       "      <td>121.766840</td>\n",
       "    </tr>\n",
       "    <tr>\n",
       "      <th>17</th>\n",
       "      <td>17</td>\n",
       "      <td>4.318118</td>\n",
       "      <td>0.652923</td>\n",
       "      <td>121.851496</td>\n",
       "    </tr>\n",
       "    <tr>\n",
       "      <th>18</th>\n",
       "      <td>18</td>\n",
       "      <td>4.779928</td>\n",
       "      <td>0.721469</td>\n",
       "      <td>122.301059</td>\n",
       "    </tr>\n",
       "    <tr>\n",
       "      <th>19</th>\n",
       "      <td>19</td>\n",
       "      <td>4.250034</td>\n",
       "      <td>0.642619</td>\n",
       "      <td>122.103700</td>\n",
       "    </tr>\n",
       "    <tr>\n",
       "      <th>20</th>\n",
       "      <td>20</td>\n",
       "      <td>1.967120</td>\n",
       "      <td>0.300640</td>\n",
       "      <td>122.770635</td>\n",
       "    </tr>\n",
       "    <tr>\n",
       "      <th>21</th>\n",
       "      <td>21</td>\n",
       "      <td>1.579896</td>\n",
       "      <td>0.242180</td>\n",
       "      <td>123.086060</td>\n",
       "    </tr>\n",
       "    <tr>\n",
       "      <th>22</th>\n",
       "      <td>22</td>\n",
       "      <td>2.542672</td>\n",
       "      <td>0.387109</td>\n",
       "      <td>123.542620</td>\n",
       "    </tr>\n",
       "    <tr>\n",
       "      <th>23</th>\n",
       "      <td>23</td>\n",
       "      <td>2.269941</td>\n",
       "      <td>0.346457</td>\n",
       "      <td>123.415791</td>\n",
       "    </tr>\n",
       "  </tbody>\n",
       "</table>\n",
       "</div>"
      ],
      "text/plain": [
       "    Hour     Power      Cost     Voltage\n",
       "0      0  0.173790  0.029468  124.723879\n",
       "1      1  0.179594  0.033805  124.522469\n",
       "2      2  0.185763  0.037013  123.929979\n",
       "3      3  0.184510  0.036815  124.174454\n",
       "4      4  0.181104  0.036366  123.847801\n",
       "5      5  0.184242  0.036693  122.790974\n",
       "6      6  0.672423  0.106142  123.375132\n",
       "7      7  0.977755  0.150614  123.722441\n",
       "8      8  0.382392  0.060904  122.997544\n",
       "9      9  0.168447  0.027770  122.675906\n",
       "10    10  0.373942  0.058812  122.986207\n",
       "11    11  0.383065  0.059837  123.500554\n",
       "12    12  0.378432  0.059604  122.783133\n",
       "13    13  0.380076  0.059766  122.991571\n",
       "14    14  0.378020  0.059666  122.815359\n",
       "15    15  0.376586  0.059619  122.464499\n",
       "16    16  4.365774  0.659342  121.766840\n",
       "17    17  4.318118  0.652923  121.851496\n",
       "18    18  4.779928  0.721469  122.301059\n",
       "19    19  4.250034  0.642619  122.103700\n",
       "20    20  1.967120  0.300640  122.770635\n",
       "21    21  1.579896  0.242180  123.086060\n",
       "22    22  2.542672  0.387109  123.542620\n",
       "23    23  2.269941  0.346457  123.415791"
      ]
     },
     "execution_count": 282,
     "metadata": {},
     "output_type": "execute_result"
    }
   ],
   "source": [
    "# Group sensor_data by 'Hour' Column\n",
    "grouped_sensor_data = sensor_data.groupby([\"Hour\"], as_index = False).mean()\n",
    "grouped_sensor_data"
   ]
  },
  {
   "cell_type": "code",
   "execution_count": 283,
   "metadata": {
    "collapsed": false
   },
   "outputs": [
    {
     "data": {
      "text/html": [
       "<div style=\"max-height:1000px;max-width:1500px;overflow:auto;\">\n",
       "<table border=\"1\" class=\"dataframe\">\n",
       "  <thead>\n",
       "    <tr style=\"text-align: right;\">\n",
       "      <th></th>\n",
       "      <th>Hour</th>\n",
       "      <th>Temperature</th>\n",
       "    </tr>\n",
       "  </thead>\n",
       "  <tbody>\n",
       "    <tr>\n",
       "      <th>0</th>\n",
       "      <td>0</td>\n",
       "      <td>78.25</td>\n",
       "    </tr>\n",
       "    <tr>\n",
       "      <th>1</th>\n",
       "      <td>1</td>\n",
       "      <td>73.20</td>\n",
       "    </tr>\n",
       "    <tr>\n",
       "      <th>2</th>\n",
       "      <td>2</td>\n",
       "      <td>72.10</td>\n",
       "    </tr>\n",
       "    <tr>\n",
       "      <th>3</th>\n",
       "      <td>3</td>\n",
       "      <td>71.00</td>\n",
       "    </tr>\n",
       "    <tr>\n",
       "      <th>4</th>\n",
       "      <td>4</td>\n",
       "      <td>70.70</td>\n",
       "    </tr>\n",
       "    <tr>\n",
       "      <th>5</th>\n",
       "      <td>5</td>\n",
       "      <td>69.60</td>\n",
       "    </tr>\n",
       "    <tr>\n",
       "      <th>6</th>\n",
       "      <td>6</td>\n",
       "      <td>69.00</td>\n",
       "    </tr>\n",
       "    <tr>\n",
       "      <th>7</th>\n",
       "      <td>7</td>\n",
       "      <td>68.80</td>\n",
       "    </tr>\n",
       "    <tr>\n",
       "      <th>8</th>\n",
       "      <td>8</td>\n",
       "      <td>69.20</td>\n",
       "    </tr>\n",
       "    <tr>\n",
       "      <th>9</th>\n",
       "      <td>9</td>\n",
       "      <td>67.90</td>\n",
       "    </tr>\n",
       "    <tr>\n",
       "      <th>10</th>\n",
       "      <td>10</td>\n",
       "      <td>68.60</td>\n",
       "    </tr>\n",
       "    <tr>\n",
       "      <th>11</th>\n",
       "      <td>11</td>\n",
       "      <td>68.70</td>\n",
       "    </tr>\n",
       "    <tr>\n",
       "      <th>12</th>\n",
       "      <td>12</td>\n",
       "      <td>72.10</td>\n",
       "    </tr>\n",
       "    <tr>\n",
       "      <th>13</th>\n",
       "      <td>13</td>\n",
       "      <td>76.20</td>\n",
       "    </tr>\n",
       "    <tr>\n",
       "      <th>14</th>\n",
       "      <td>14</td>\n",
       "      <td>80.10</td>\n",
       "    </tr>\n",
       "    <tr>\n",
       "      <th>15</th>\n",
       "      <td>15</td>\n",
       "      <td>80.70</td>\n",
       "    </tr>\n",
       "    <tr>\n",
       "      <th>16</th>\n",
       "      <td>16</td>\n",
       "      <td>80.90</td>\n",
       "    </tr>\n",
       "    <tr>\n",
       "      <th>17</th>\n",
       "      <td>17</td>\n",
       "      <td>83.30</td>\n",
       "    </tr>\n",
       "    <tr>\n",
       "      <th>18</th>\n",
       "      <td>18</td>\n",
       "      <td>84.50</td>\n",
       "    </tr>\n",
       "    <tr>\n",
       "      <th>19</th>\n",
       "      <td>19</td>\n",
       "      <td>85.10</td>\n",
       "    </tr>\n",
       "    <tr>\n",
       "      <th>20</th>\n",
       "      <td>20</td>\n",
       "      <td>87.00</td>\n",
       "    </tr>\n",
       "    <tr>\n",
       "      <th>21</th>\n",
       "      <td>21</td>\n",
       "      <td>84.20</td>\n",
       "    </tr>\n",
       "    <tr>\n",
       "      <th>22</th>\n",
       "      <td>22</td>\n",
       "      <td>84.40</td>\n",
       "    </tr>\n",
       "    <tr>\n",
       "      <th>23</th>\n",
       "      <td>23</td>\n",
       "      <td>83.00</td>\n",
       "    </tr>\n",
       "  </tbody>\n",
       "</table>\n",
       "</div>"
      ],
      "text/plain": [
       "    Hour  Temperature\n",
       "0      0        78.25\n",
       "1      1        73.20\n",
       "2      2        72.10\n",
       "3      3        71.00\n",
       "4      4        70.70\n",
       "5      5        69.60\n",
       "6      6        69.00\n",
       "7      7        68.80\n",
       "8      8        69.20\n",
       "9      9        67.90\n",
       "10    10        68.60\n",
       "11    11        68.70\n",
       "12    12        72.10\n",
       "13    13        76.20\n",
       "14    14        80.10\n",
       "15    15        80.70\n",
       "16    16        80.90\n",
       "17    17        83.30\n",
       "18    18        84.50\n",
       "19    19        85.10\n",
       "20    20        87.00\n",
       "21    21        84.20\n",
       "22    22        84.40\n",
       "23    23        83.00"
      ]
     },
     "execution_count": 283,
     "metadata": {},
     "output_type": "execute_result"
    }
   ],
   "source": [
    "# Group temperature_data by \"Hour\"\n",
    "grouped_temperature_data = temperature_data.groupby([\"Hour\"], as_index = False).mean()\n",
    "grouped_temperature_data"
   ]
  },
  {
   "cell_type": "markdown",
   "metadata": {},
   "source": [
    "## Basic Visualizations:"
   ]
  },
  {
   "cell_type": "code",
   "execution_count": 284,
   "metadata": {
    "collapsed": false
   },
   "outputs": [
    {
     "name": "stdout",
     "output_type": "stream",
     "text": [
      "Populating the interactive namespace from numpy and matplotlib\n"
     ]
    }
   ],
   "source": [
    "# Generates all the visualizations right inside the ipython notebook\n",
    "%pylab inline\n",
    "plt.style.use('ggplot')"
   ]
  },
  {
   "cell_type": "code",
   "execution_count": 285,
   "metadata": {
    "collapsed": false,
    "scrolled": true
   },
   "outputs": [
    {
     "data": {
      "text/plain": [
       "<matplotlib.text.Text at 0x7f1de85b5390>"
      ]
     },
     "execution_count": 285,
     "metadata": {},
     "output_type": "execute_result"
    },
    {
     "data": {
      "image/png": "[encoded data removed]",
      "text/plain": [
       "<matplotlib.figure.Figure at 0x7f1de8852250>"
      ]
     },
     "metadata": {},
     "output_type": "display_data"
    }
   ],
   "source": [
    "fig = plt.figure(figsize=(13,7))\n",
    "plt.hist(sensor_data.Power, bins=50)\n",
    "fig.suptitle('Power Histogram', fontsize = 20)\n",
    "plt.xlabel('Power', fontsize = 16)\n",
    "plt.ylabel('Count', fontsize = 16)"
   ]
  },
  {
   "cell_type": "markdown",
   "metadata": {},
   "source": [
    "Looks like most of the time this house is consuming a limited amount of power. Although there is also a good amount of distribution in the range of <b>3.5kW - 5kW</b>, indicating a higher demand.<br/><br/>\n",
    "Let's now plot the Power Distribution with the day hours."
   ]
  },
  {
   "cell_type": "code",
   "execution_count": 286,
   "metadata": {
    "collapsed": false
   },
   "outputs": [
    {
     "data": {
      "image/png": "[encoded data removed]",
      "text/plain": [
       "<matplotlib.figure.Figure at 0x7f1de8513e50>"
      ]
     },
     "metadata": {},
     "output_type": "display_data"
    }
   ],
   "source": [
    "fig = plt.figure(figsize=(13,7))\n",
    "plt.bar(grouped_sensor_data.Hour, grouped_sensor_data.Power)\n",
    "fig.suptitle('Power Distribution with Hours', fontsize = 20)\n",
    "plt.xlabel('Hour', fontsize = 16)\n",
    "plt.ylabel('Power', fontsize = 16)\n",
    "plt.xticks(range(0, 24))\n",
    "plt.show()"
   ]
  },
  {
   "cell_type": "markdown",
   "metadata": {},
   "source": [
    "#### Some of the inferences we can get from this bar chart are:\n",
    "\n",
    "* Highest Demand is noticed during the evening hours. This is quite expected since most of the equipments would be in 'on' state during this time like AC(during summers), room heaters(during winters), TV, Oven, Washing Machine, Lights, etc.\n",
    "* Night hours(0000 - 0500) and office hours(0900 - 1600) have very low demand, since most of the appliances will be in 'off' state during this period.\n",
    "* There is a slight increase in Power during morning hours from 0600 - 0900, which should account for the power used by the appliances during morning activities, lights, geysers, etc.\n",
    "\n",
    "#### Steady States:\n",
    "\n",
    "* In the time period <b>0000 - 0500</b>, demand is noticeably less and ranges between <b>0.17kW - 0.18kW</b>\n",
    "* Another steady period is from <b>1000 - 1500</b>, demand is pretty much steady between <b>0.373kW - 0.376kW</b>\n",
    "* Steady state with highest demand is from <b>1600 - 1900</b> having a range between <b>4.36kW - 4.25kW</b>\n",
    "\n",
    "Some sudden changes in Demand during 0700 and 1800 can be attributed because of random events or the usage of certain appliances and may be counted as noise in the dataset. \n",
    "\n",
    "Similarily there is a slight oscillation in demand during 0900 which suddenly falls down from 0.38kW to 0.16kW and rises up again to about 0.37kW. Similar change in demand is seen at 2100.\n",
    "\n",
    "Let's further plot temperature with the Power to see if there is any correlation among these."
   ]
  },
  {
   "cell_type": "code",
   "execution_count": 287,
   "metadata": {
    "collapsed": false
   },
   "outputs": [
    {
     "data": {
      "image/png": "[encoded data removed]",
      "text/plain": [
       "<matplotlib.figure.Figure at 0x7f1dea83ae10>"
      ]
     },
     "metadata": {},
     "output_type": "display_data"
    }
   ],
   "source": [
    "fig = plt.figure(figsize=(13,7))\n",
    "plt.bar(grouped_temperature_data.Temperature, grouped_sensor_data.Power)\n",
    "fig.suptitle('Power Distribution with Temperature', fontsize = 20)\n",
    "plt.xlabel('Temperature in Fahrenheit', fontsize = 16)\n",
    "plt.ylabel('Power', fontsize = 16)\n",
    "plt.show()"
   ]
  },
  {
   "cell_type": "markdown",
   "metadata": {},
   "source": [
    "There seems to be a direct correlation between temperature and the demand of power. This makes sense, since with our current dataset which is from May, this shows that cooling appliances like AC, refrigerator, etc. are consuming a lot of power during the peak hours(evening)."
   ]
  },
  {
   "cell_type": "markdown",
   "metadata": {},
   "source": [
    "# Task 2: Machine Learning\n",
    "\n",
    "We'll start with merging the <b>grouped_sensor_data</b> and <b>grouped_temperature_data</b> so that we can work on the complete dataset from a single dataframe."
   ]
  },
  {
   "cell_type": "code",
   "execution_count": 291,
   "metadata": {
    "collapsed": false
   },
   "outputs": [
    {
     "data": {
      "text/html": [
       "<div style=\"max-height:1000px;max-width:1500px;overflow:auto;\">\n",
       "<table border=\"1\" class=\"dataframe\">\n",
       "  <thead>\n",
       "    <tr style=\"text-align: right;\">\n",
       "      <th></th>\n",
       "      <th>Hour</th>\n",
       "      <th>Power</th>\n",
       "      <th>Cost</th>\n",
       "      <th>Voltage</th>\n",
       "      <th>Temperature</th>\n",
       "    </tr>\n",
       "  </thead>\n",
       "  <tbody>\n",
       "    <tr>\n",
       "      <th>0</th>\n",
       "      <td>0</td>\n",
       "      <td>0.173790</td>\n",
       "      <td>0.029468</td>\n",
       "      <td>124.723879</td>\n",
       "      <td>78.25</td>\n",
       "    </tr>\n",
       "    <tr>\n",
       "      <th>1</th>\n",
       "      <td>1</td>\n",
       "      <td>0.179594</td>\n",
       "      <td>0.033805</td>\n",
       "      <td>124.522469</td>\n",
       "      <td>73.20</td>\n",
       "    </tr>\n",
       "    <tr>\n",
       "      <th>2</th>\n",
       "      <td>2</td>\n",
       "      <td>0.185763</td>\n",
       "      <td>0.037013</td>\n",
       "      <td>123.929979</td>\n",
       "      <td>72.10</td>\n",
       "    </tr>\n",
       "    <tr>\n",
       "      <th>3</th>\n",
       "      <td>3</td>\n",
       "      <td>0.184510</td>\n",
       "      <td>0.036815</td>\n",
       "      <td>124.174454</td>\n",
       "      <td>71.00</td>\n",
       "    </tr>\n",
       "    <tr>\n",
       "      <th>4</th>\n",
       "      <td>4</td>\n",
       "      <td>0.181104</td>\n",
       "      <td>0.036366</td>\n",
       "      <td>123.847801</td>\n",
       "      <td>70.70</td>\n",
       "    </tr>\n",
       "    <tr>\n",
       "      <th>5</th>\n",
       "      <td>5</td>\n",
       "      <td>0.184242</td>\n",
       "      <td>0.036693</td>\n",
       "      <td>122.790974</td>\n",
       "      <td>69.60</td>\n",
       "    </tr>\n",
       "    <tr>\n",
       "      <th>6</th>\n",
       "      <td>6</td>\n",
       "      <td>0.672423</td>\n",
       "      <td>0.106142</td>\n",
       "      <td>123.375132</td>\n",
       "      <td>69.00</td>\n",
       "    </tr>\n",
       "    <tr>\n",
       "      <th>7</th>\n",
       "      <td>7</td>\n",
       "      <td>0.977755</td>\n",
       "      <td>0.150614</td>\n",
       "      <td>123.722441</td>\n",
       "      <td>68.80</td>\n",
       "    </tr>\n",
       "    <tr>\n",
       "      <th>8</th>\n",
       "      <td>8</td>\n",
       "      <td>0.382392</td>\n",
       "      <td>0.060904</td>\n",
       "      <td>122.997544</td>\n",
       "      <td>69.20</td>\n",
       "    </tr>\n",
       "    <tr>\n",
       "      <th>9</th>\n",
       "      <td>9</td>\n",
       "      <td>0.168447</td>\n",
       "      <td>0.027770</td>\n",
       "      <td>122.675906</td>\n",
       "      <td>67.90</td>\n",
       "    </tr>\n",
       "    <tr>\n",
       "      <th>10</th>\n",
       "      <td>10</td>\n",
       "      <td>0.373942</td>\n",
       "      <td>0.058812</td>\n",
       "      <td>122.986207</td>\n",
       "      <td>68.60</td>\n",
       "    </tr>\n",
       "    <tr>\n",
       "      <th>11</th>\n",
       "      <td>11</td>\n",
       "      <td>0.383065</td>\n",
       "      <td>0.059837</td>\n",
       "      <td>123.500554</td>\n",
       "      <td>68.70</td>\n",
       "    </tr>\n",
       "    <tr>\n",
       "      <th>12</th>\n",
       "      <td>12</td>\n",
       "      <td>0.378432</td>\n",
       "      <td>0.059604</td>\n",
       "      <td>122.783133</td>\n",
       "      <td>72.10</td>\n",
       "    </tr>\n",
       "    <tr>\n",
       "      <th>13</th>\n",
       "      <td>13</td>\n",
       "      <td>0.380076</td>\n",
       "      <td>0.059766</td>\n",
       "      <td>122.991571</td>\n",
       "      <td>76.20</td>\n",
       "    </tr>\n",
       "    <tr>\n",
       "      <th>14</th>\n",
       "      <td>14</td>\n",
       "      <td>0.378020</td>\n",
       "      <td>0.059666</td>\n",
       "      <td>122.815359</td>\n",
       "      <td>80.10</td>\n",
       "    </tr>\n",
       "    <tr>\n",
       "      <th>15</th>\n",
       "      <td>15</td>\n",
       "      <td>0.376586</td>\n",
       "      <td>0.059619</td>\n",
       "      <td>122.464499</td>\n",
       "      <td>80.70</td>\n",
       "    </tr>\n",
       "    <tr>\n",
       "      <th>16</th>\n",
       "      <td>16</td>\n",
       "      <td>4.365774</td>\n",
       "      <td>0.659342</td>\n",
       "      <td>121.766840</td>\n",
       "      <td>80.90</td>\n",
       "    </tr>\n",
       "    <tr>\n",
       "      <th>17</th>\n",
       "      <td>17</td>\n",
       "      <td>4.318118</td>\n",
       "      <td>0.652923</td>\n",
       "      <td>121.851496</td>\n",
       "      <td>83.30</td>\n",
       "    </tr>\n",
       "    <tr>\n",
       "      <th>18</th>\n",
       "      <td>18</td>\n",
       "      <td>4.779928</td>\n",
       "      <td>0.721469</td>\n",
       "      <td>122.301059</td>\n",
       "      <td>84.50</td>\n",
       "    </tr>\n",
       "    <tr>\n",
       "      <th>19</th>\n",
       "      <td>19</td>\n",
       "      <td>4.250034</td>\n",
       "      <td>0.642619</td>\n",
       "      <td>122.103700</td>\n",
       "      <td>85.10</td>\n",
       "    </tr>\n",
       "    <tr>\n",
       "      <th>20</th>\n",
       "      <td>20</td>\n",
       "      <td>1.967120</td>\n",
       "      <td>0.300640</td>\n",
       "      <td>122.770635</td>\n",
       "      <td>87.00</td>\n",
       "    </tr>\n",
       "    <tr>\n",
       "      <th>21</th>\n",
       "      <td>21</td>\n",
       "      <td>1.579896</td>\n",
       "      <td>0.242180</td>\n",
       "      <td>123.086060</td>\n",
       "      <td>84.20</td>\n",
       "    </tr>\n",
       "    <tr>\n",
       "      <th>22</th>\n",
       "      <td>22</td>\n",
       "      <td>2.542672</td>\n",
       "      <td>0.387109</td>\n",
       "      <td>123.542620</td>\n",
       "      <td>84.40</td>\n",
       "    </tr>\n",
       "    <tr>\n",
       "      <th>23</th>\n",
       "      <td>23</td>\n",
       "      <td>2.269941</td>\n",
       "      <td>0.346457</td>\n",
       "      <td>123.415791</td>\n",
       "      <td>83.00</td>\n",
       "    </tr>\n",
       "  </tbody>\n",
       "</table>\n",
       "</div>"
      ],
      "text/plain": [
       "    Hour     Power      Cost     Voltage  Temperature\n",
       "0      0  0.173790  0.029468  124.723879        78.25\n",
       "1      1  0.179594  0.033805  124.522469        73.20\n",
       "2      2  0.185763  0.037013  123.929979        72.10\n",
       "3      3  0.184510  0.036815  124.174454        71.00\n",
       "4      4  0.181104  0.036366  123.847801        70.70\n",
       "5      5  0.184242  0.036693  122.790974        69.60\n",
       "6      6  0.672423  0.106142  123.375132        69.00\n",
       "7      7  0.977755  0.150614  123.722441        68.80\n",
       "8      8  0.382392  0.060904  122.997544        69.20\n",
       "9      9  0.168447  0.027770  122.675906        67.90\n",
       "10    10  0.373942  0.058812  122.986207        68.60\n",
       "11    11  0.383065  0.059837  123.500554        68.70\n",
       "12    12  0.378432  0.059604  122.783133        72.10\n",
       "13    13  0.380076  0.059766  122.991571        76.20\n",
       "14    14  0.378020  0.059666  122.815359        80.10\n",
       "15    15  0.376586  0.059619  122.464499        80.70\n",
       "16    16  4.365774  0.659342  121.766840        80.90\n",
       "17    17  4.318118  0.652923  121.851496        83.30\n",
       "18    18  4.779928  0.721469  122.301059        84.50\n",
       "19    19  4.250034  0.642619  122.103700        85.10\n",
       "20    20  1.967120  0.300640  122.770635        87.00\n",
       "21    21  1.579896  0.242180  123.086060        84.20\n",
       "22    22  2.542672  0.387109  123.542620        84.40\n",
       "23    23  2.269941  0.346457  123.415791        83.00"
      ]
     },
     "execution_count": 291,
     "metadata": {},
     "output_type": "execute_result"
    }
   ],
   "source": [
    "# Merge grouped_sensor_data and grouped_temperature_data using \"Hour\" as the key\n",
    "merged_data = grouped_sensor_data.merge(grouped_temperature_data)\n",
    "merged_data"
   ]
  },
  {
   "cell_type": "markdown",
   "metadata": {},
   "source": [
    "In previous visualization we saw that when temperature is low generally there is less demand of power. But that mainly relates to the cooling appliances in the home. We'll consider the following appliances:\n",
    "\n",
    "* Cooling Systems\n",
    "* TV\n",
    "* Geyser\n",
    "* Lights\n",
    "* Oven\n",
    "* Home Security Systems\n",
    "\n",
    "and would try to identify there presence or on/off state using the merged dataset.<br>\n",
    "\n",
    "#### AC, Refrigerator and Other Coooling Systems:\n",
    "As apparent from \"Power Distribution with Temperature\" figure, there is a sudden increase in power demand with the rise in temperature. This clearly indicates the <b>ON</b> state of one or more cooling systems in the home. Since these appliances takes a considerable amount of power, this sudden upsurge in the power is quite justified. Clearly <b>Power</b> and <b>Temperature</b> are the two features that indicates the 'ON' state of these appliances. Although 'Cost' feature is also correlated with 'Power' we'd leave it out, since it is more of a causation of Power demand, then a completely independent feature.<br>\n",
    "\n",
    "#### TV:\n",
    "During the evening hours(1600 - 2300), an 'ON' television set is probably another factor for increased power demand. It is quite apparent from the <b>Power</b> feature.<br>\n",
    "\n",
    "#### Geyser, Oven:\n",
    "Slight increase in power demand during morning hours can be related to the presence of these appliances and is justified again by the <b>Power</b> feature.\n",
    "\n",
    "#### Lights:\n",
    "It's quite obvious there is a small contribution(considering house owner was smart and installed LED bulbs ;) ) of lights in the house in the 'Power' demand. And of course it only makes sense to switch 'ON' the lights during *darker times* :D of the day, <b>Hour</b> and Low <b>Power</b> are the indicators of lights.\n",
    "\n",
    "#### Home Security Systems:\n",
    "During the office hours there's a very little increase in the Power demand, this can be attributed to home security systems or other automated devices.<br><br>\n",
    "\n",
    "Now, we'll be using simple <b>K-Means clustering</b> using <b>scikit-learn</b>. We are going to consider <b>Hour, Power and Temperature</b> feature from the original dataset. For that first of all we'll have to merge the sensor_data dataframe with grouped_temperature_data dataframe."
   ]
  },
  {
   "cell_type": "code",
   "execution_count": 292,
   "metadata": {
    "collapsed": false
   },
   "outputs": [
    {
     "data": {
      "text/html": [
       "<div style=\"max-height:1000px;max-width:1500px;overflow:auto;\">\n",
       "<table border=\"1\" class=\"dataframe\">\n",
       "  <thead>\n",
       "    <tr style=\"text-align: right;\">\n",
       "      <th></th>\n",
       "      <th>Power</th>\n",
       "      <th>Hour</th>\n",
       "      <th>Temperature</th>\n",
       "    </tr>\n",
       "  </thead>\n",
       "  <tbody>\n",
       "    <tr>\n",
       "      <th>0</th>\n",
       "      <td>4.102</td>\n",
       "      <td>19</td>\n",
       "      <td>85.1</td>\n",
       "    </tr>\n",
       "    <tr>\n",
       "      <th>1</th>\n",
       "      <td>4.089</td>\n",
       "      <td>19</td>\n",
       "      <td>85.1</td>\n",
       "    </tr>\n",
       "    <tr>\n",
       "      <th>2</th>\n",
       "      <td>4.089</td>\n",
       "      <td>19</td>\n",
       "      <td>85.1</td>\n",
       "    </tr>\n",
       "    <tr>\n",
       "      <th>3</th>\n",
       "      <td>4.089</td>\n",
       "      <td>19</td>\n",
       "      <td>85.1</td>\n",
       "    </tr>\n",
       "    <tr>\n",
       "      <th>4</th>\n",
       "      <td>4.097</td>\n",
       "      <td>19</td>\n",
       "      <td>85.1</td>\n",
       "    </tr>\n",
       "  </tbody>\n",
       "</table>\n",
       "</div>"
      ],
      "text/plain": [
       "   Power  Hour  Temperature\n",
       "0  4.102    19         85.1\n",
       "1  4.089    19         85.1\n",
       "2  4.089    19         85.1\n",
       "3  4.089    19         85.1\n",
       "4  4.097    19         85.1"
      ]
     },
     "execution_count": 292,
     "metadata": {},
     "output_type": "execute_result"
    }
   ],
   "source": [
    "# Complete merged dataset\n",
    "data =sensor_data.merge(grouped_temperature_data)\n",
    "\n",
    "# Lets drop Time, MTU, Cost and Voltage features\n",
    "data.drop([\"Time\", \"MTU\", \"Cost\", \"Voltage\"], axis = 1, inplace = True)\n",
    "data.head()"
   ]
  },
  {
   "cell_type": "code",
   "execution_count": 293,
   "metadata": {
    "collapsed": true
   },
   "outputs": [],
   "source": [
    "# Import required modules from scikit-learn\n",
    "from sklearn.cluster import KMeans\n",
    "from sklearn.cross_validation import train_test_split"
   ]
  },
  {
   "cell_type": "code",
   "execution_count": 294,
   "metadata": {
    "collapsed": true
   },
   "outputs": [],
   "source": [
    "# Set a random seed, so we can reproduce the results\n",
    "np.random.seed(1234)\n",
    "\n",
    "# Divide the merged dataset into train and test datasets\n",
    "train_data, test_data = train_test_split(data, test_size = 0.25, random_state = 42)"
   ]
  },
  {
   "cell_type": "code",
   "execution_count": 295,
   "metadata": {
    "collapsed": false
   },
   "outputs": [
    {
     "data": {
      "text/plain": [
       "(66668, 3)"
      ]
     },
     "execution_count": 295,
     "metadata": {},
     "output_type": "execute_result"
    }
   ],
   "source": [
    "# We are left with train and test sets of dimensions\n",
    "train_data.shape"
   ]
  },
  {
   "cell_type": "code",
   "execution_count": 296,
   "metadata": {
    "collapsed": false
   },
   "outputs": [
    {
     "data": {
      "text/plain": [
       "(22223, 3)"
      ]
     },
     "execution_count": 296,
     "metadata": {},
     "output_type": "execute_result"
    }
   ],
   "source": [
    "test_data.shape"
   ]
  },
  {
   "cell_type": "code",
   "execution_count": 297,
   "metadata": {
    "collapsed": false
   },
   "outputs": [],
   "source": [
    "# Perform K-Means clustering over the train dataset\n",
    "kmeans = KMeans(n_clusters = 4, n_jobs = 4)\n",
    "kmeans_fit = kmeans.fit(train_data) "
   ]
  },
  {
   "cell_type": "code",
   "execution_count": 298,
   "metadata": {
    "collapsed": false
   },
   "outputs": [],
   "source": [
    "predict = kmeans_fit.predict(test_data)"
   ]
  },
  {
   "cell_type": "code",
   "execution_count": 299,
   "metadata": {
    "collapsed": false
   },
   "outputs": [
    {
     "name": "stderr",
     "output_type": "stream",
     "text": [
      "/usr/local/lib/python2.7/dist-packages/IPython/kernel/__main__.py:1: SettingWithCopyWarning: \n",
      "A value is trying to be set on a copy of a slice from a DataFrame.\n",
      "Try using .loc[row_indexer,col_indexer] = value instead\n",
      "\n",
      "See the the caveats in the documentation: http://pandas.pydata.org/pandas-docs/stable/indexing.html#indexing-view-versus-copy\n",
      "  if __name__ == '__main__':\n"
     ]
    },
    {
     "data": {
      "text/html": [
       "<div style=\"max-height:1000px;max-width:1500px;overflow:auto;\">\n",
       "<table border=\"1\" class=\"dataframe\">\n",
       "  <thead>\n",
       "    <tr style=\"text-align: right;\">\n",
       "      <th></th>\n",
       "      <th>Power</th>\n",
       "      <th>Hour</th>\n",
       "      <th>Temperature</th>\n",
       "      <th>Cluster</th>\n",
       "    </tr>\n",
       "  </thead>\n",
       "  <tbody>\n",
       "    <tr>\n",
       "      <th>52595</th>\n",
       "      <td>0.114</td>\n",
       "      <td>8</td>\n",
       "      <td>69.2</td>\n",
       "      <td>1</td>\n",
       "    </tr>\n",
       "    <tr>\n",
       "      <th>86044</th>\n",
       "      <td>4.255</td>\n",
       "      <td>17</td>\n",
       "      <td>83.3</td>\n",
       "      <td>0</td>\n",
       "    </tr>\n",
       "    <tr>\n",
       "      <th>6091</th>\n",
       "      <td>3.559</td>\n",
       "      <td>20</td>\n",
       "      <td>87.0</td>\n",
       "      <td>0</td>\n",
       "    </tr>\n",
       "    <tr>\n",
       "      <th>60185</th>\n",
       "      <td>0.453</td>\n",
       "      <td>11</td>\n",
       "      <td>68.7</td>\n",
       "      <td>1</td>\n",
       "    </tr>\n",
       "    <tr>\n",
       "      <th>37054</th>\n",
       "      <td>0.136</td>\n",
       "      <td>4</td>\n",
       "      <td>70.7</td>\n",
       "      <td>2</td>\n",
       "    </tr>\n",
       "    <tr>\n",
       "      <th>59216</th>\n",
       "      <td>0.312</td>\n",
       "      <td>10</td>\n",
       "      <td>68.6</td>\n",
       "      <td>1</td>\n",
       "    </tr>\n",
       "    <tr>\n",
       "      <th>61848</th>\n",
       "      <td>0.453</td>\n",
       "      <td>11</td>\n",
       "      <td>68.7</td>\n",
       "      <td>1</td>\n",
       "    </tr>\n",
       "    <tr>\n",
       "      <th>278</th>\n",
       "      <td>4.162</td>\n",
       "      <td>19</td>\n",
       "      <td>85.1</td>\n",
       "      <td>0</td>\n",
       "    </tr>\n",
       "    <tr>\n",
       "      <th>30829</th>\n",
       "      <td>0.136</td>\n",
       "      <td>3</td>\n",
       "      <td>71.0</td>\n",
       "      <td>2</td>\n",
       "    </tr>\n",
       "    <tr>\n",
       "      <th>8751</th>\n",
       "      <td>0.955</td>\n",
       "      <td>21</td>\n",
       "      <td>84.2</td>\n",
       "      <td>0</td>\n",
       "    </tr>\n",
       "    <tr>\n",
       "      <th>35134</th>\n",
       "      <td>0.276</td>\n",
       "      <td>4</td>\n",
       "      <td>70.7</td>\n",
       "      <td>2</td>\n",
       "    </tr>\n",
       "    <tr>\n",
       "      <th>31476</th>\n",
       "      <td>0.278</td>\n",
       "      <td>3</td>\n",
       "      <td>71.0</td>\n",
       "      <td>2</td>\n",
       "    </tr>\n",
       "    <tr>\n",
       "      <th>55854</th>\n",
       "      <td>0.456</td>\n",
       "      <td>10</td>\n",
       "      <td>68.6</td>\n",
       "      <td>1</td>\n",
       "    </tr>\n",
       "    <tr>\n",
       "      <th>54992</th>\n",
       "      <td>0.370</td>\n",
       "      <td>8</td>\n",
       "      <td>69.2</td>\n",
       "      <td>1</td>\n",
       "    </tr>\n",
       "    <tr>\n",
       "      <th>78259</th>\n",
       "      <td>0.307</td>\n",
       "      <td>15</td>\n",
       "      <td>80.7</td>\n",
       "      <td>3</td>\n",
       "    </tr>\n",
       "    <tr>\n",
       "      <th>62724</th>\n",
       "      <td>0.313</td>\n",
       "      <td>11</td>\n",
       "      <td>68.7</td>\n",
       "      <td>1</td>\n",
       "    </tr>\n",
       "    <tr>\n",
       "      <th>54132</th>\n",
       "      <td>0.260</td>\n",
       "      <td>8</td>\n",
       "      <td>69.2</td>\n",
       "      <td>1</td>\n",
       "    </tr>\n",
       "    <tr>\n",
       "      <th>44204</th>\n",
       "      <td>0.114</td>\n",
       "      <td>9</td>\n",
       "      <td>67.9</td>\n",
       "      <td>1</td>\n",
       "    </tr>\n",
       "    <tr>\n",
       "      <th>7834</th>\n",
       "      <td>1.094</td>\n",
       "      <td>21</td>\n",
       "      <td>84.2</td>\n",
       "      <td>0</td>\n",
       "    </tr>\n",
       "    <tr>\n",
       "      <th>25231</th>\n",
       "      <td>0.125</td>\n",
       "      <td>1</td>\n",
       "      <td>73.2</td>\n",
       "      <td>2</td>\n",
       "    </tr>\n",
       "  </tbody>\n",
       "</table>\n",
       "</div>"
      ],
      "text/plain": [
       "       Power  Hour  Temperature  Cluster\n",
       "52595  0.114     8         69.2        1\n",
       "86044  4.255    17         83.3        0\n",
       "6091   3.559    20         87.0        0\n",
       "60185  0.453    11         68.7        1\n",
       "37054  0.136     4         70.7        2\n",
       "59216  0.312    10         68.6        1\n",
       "61848  0.453    11         68.7        1\n",
       "278    4.162    19         85.1        0\n",
       "30829  0.136     3         71.0        2\n",
       "8751   0.955    21         84.2        0\n",
       "35134  0.276     4         70.7        2\n",
       "31476  0.278     3         71.0        2\n",
       "55854  0.456    10         68.6        1\n",
       "54992  0.370     8         69.2        1\n",
       "78259  0.307    15         80.7        3\n",
       "62724  0.313    11         68.7        1\n",
       "54132  0.260     8         69.2        1\n",
       "44204  0.114     9         67.9        1\n",
       "7834   1.094    21         84.2        0\n",
       "25231  0.125     1         73.2        2"
      ]
     },
     "execution_count": 299,
     "metadata": {},
     "output_type": "execute_result"
    }
   ],
   "source": [
    "test_data[\"Cluster\"] = predict\n",
    "test_data.head(20)"
   ]
  },
  {
   "cell_type": "markdown",
   "metadata": {},
   "source": [
    "This looks like a pretty reasonable clustering. We can further assign the labels to these clusters, as an appliance detection model. As apparent from the predicted result, We can set the labels for clusters as:\n",
    "\n",
    "* <b>0</b> - Cooling Systems\n",
    "* <b>1</b> - Oven, Geyser\n",
    "* <b>2</b> - Night Lights\n",
    "* <b>3</b> - Home Security Systems\n",
    "\n",
    "We'll create a data frame with these labels and merge it with predicted results."
   ]
  },
  {
   "cell_type": "code",
   "execution_count": 300,
   "metadata": {
    "collapsed": false
   },
   "outputs": [
    {
     "data": {
      "text/html": [
       "<div style=\"max-height:1000px;max-width:1500px;overflow:auto;\">\n",
       "<table border=\"1\" class=\"dataframe\">\n",
       "  <thead>\n",
       "    <tr style=\"text-align: right;\">\n",
       "      <th></th>\n",
       "      <th>Appliances</th>\n",
       "      <th>Cluster</th>\n",
       "    </tr>\n",
       "  </thead>\n",
       "  <tbody>\n",
       "    <tr>\n",
       "      <th>0</th>\n",
       "      <td>Cooling System</td>\n",
       "      <td>0</td>\n",
       "    </tr>\n",
       "    <tr>\n",
       "      <th>1</th>\n",
       "      <td>Oven, Geyser</td>\n",
       "      <td>1</td>\n",
       "    </tr>\n",
       "    <tr>\n",
       "      <th>2</th>\n",
       "      <td>Night Lights</td>\n",
       "      <td>2</td>\n",
       "    </tr>\n",
       "    <tr>\n",
       "      <th>3</th>\n",
       "      <td>Home Security Systems</td>\n",
       "      <td>3</td>\n",
       "    </tr>\n",
       "  </tbody>\n",
       "</table>\n",
       "</div>"
      ],
      "text/plain": [
       "              Appliances  Cluster\n",
       "0         Cooling System        0\n",
       "1           Oven, Geyser        1\n",
       "2           Night Lights        2\n",
       "3  Home Security Systems        3"
      ]
     },
     "execution_count": 300,
     "metadata": {},
     "output_type": "execute_result"
    }
   ],
   "source": [
    "# Create a dataframe with appliance labels\n",
    "label_df = pd.DataFrame({\"Cluster\": [0, 1, 2, 3],\n",
    "                         \"Appliances\": [\"Cooling System\",\"Oven, Geyser\",\n",
    "                                        \"Night Lights\", \"Home Security Systems\"]})\n",
    "label_df"
   ]
  },
  {
   "cell_type": "code",
   "execution_count": 301,
   "metadata": {
    "collapsed": false
   },
   "outputs": [
    {
     "data": {
      "text/html": [
       "<div style=\"max-height:1000px;max-width:1500px;overflow:auto;\">\n",
       "<table border=\"1\" class=\"dataframe\">\n",
       "  <thead>\n",
       "    <tr style=\"text-align: right;\">\n",
       "      <th></th>\n",
       "      <th>Power</th>\n",
       "      <th>Hour</th>\n",
       "      <th>Temperature</th>\n",
       "      <th>Cluster</th>\n",
       "      <th>Appliances</th>\n",
       "    </tr>\n",
       "  </thead>\n",
       "  <tbody>\n",
       "    <tr>\n",
       "      <th>0</th>\n",
       "      <td>0.114</td>\n",
       "      <td>8</td>\n",
       "      <td>69.2</td>\n",
       "      <td>1</td>\n",
       "      <td>Oven, Geyser</td>\n",
       "    </tr>\n",
       "    <tr>\n",
       "      <th>1</th>\n",
       "      <td>0.453</td>\n",
       "      <td>11</td>\n",
       "      <td>68.7</td>\n",
       "      <td>1</td>\n",
       "      <td>Oven, Geyser</td>\n",
       "    </tr>\n",
       "    <tr>\n",
       "      <th>2</th>\n",
       "      <td>0.312</td>\n",
       "      <td>10</td>\n",
       "      <td>68.6</td>\n",
       "      <td>1</td>\n",
       "      <td>Oven, Geyser</td>\n",
       "    </tr>\n",
       "    <tr>\n",
       "      <th>3</th>\n",
       "      <td>0.453</td>\n",
       "      <td>11</td>\n",
       "      <td>68.7</td>\n",
       "      <td>1</td>\n",
       "      <td>Oven, Geyser</td>\n",
       "    </tr>\n",
       "    <tr>\n",
       "      <th>4</th>\n",
       "      <td>0.456</td>\n",
       "      <td>10</td>\n",
       "      <td>68.6</td>\n",
       "      <td>1</td>\n",
       "      <td>Oven, Geyser</td>\n",
       "    </tr>\n",
       "  </tbody>\n",
       "</table>\n",
       "</div>"
      ],
      "text/plain": [
       "   Power  Hour  Temperature  Cluster    Appliances\n",
       "0  0.114     8         69.2        1  Oven, Geyser\n",
       "1  0.453    11         68.7        1  Oven, Geyser\n",
       "2  0.312    10         68.6        1  Oven, Geyser\n",
       "3  0.453    11         68.7        1  Oven, Geyser\n",
       "4  0.456    10         68.6        1  Oven, Geyser"
      ]
     },
     "execution_count": 301,
     "metadata": {},
     "output_type": "execute_result"
    }
   ],
   "source": [
    "# Merge predicted cluster values for test data set with our label dataframe\n",
    "result = test_data.merge(label_df)\n",
    "result.head()"
   ]
  },
  {
   "cell_type": "code",
   "execution_count": 302,
   "metadata": {
    "collapsed": false
   },
   "outputs": [
    {
     "data": {
      "text/html": [
       "<div style=\"max-height:1000px;max-width:1500px;overflow:auto;\">\n",
       "<table border=\"1\" class=\"dataframe\">\n",
       "  <thead>\n",
       "    <tr style=\"text-align: right;\">\n",
       "      <th></th>\n",
       "      <th>Power</th>\n",
       "      <th>Hour</th>\n",
       "      <th>Temperature</th>\n",
       "      <th>Cluster</th>\n",
       "      <th>Appliances</th>\n",
       "    </tr>\n",
       "  </thead>\n",
       "  <tbody>\n",
       "    <tr>\n",
       "      <th>22218</th>\n",
       "      <td>0.306</td>\n",
       "      <td>15</td>\n",
       "      <td>80.7</td>\n",
       "      <td>3</td>\n",
       "      <td>Home Security Systems</td>\n",
       "    </tr>\n",
       "    <tr>\n",
       "      <th>22219</th>\n",
       "      <td>0.450</td>\n",
       "      <td>13</td>\n",
       "      <td>76.2</td>\n",
       "      <td>3</td>\n",
       "      <td>Home Security Systems</td>\n",
       "    </tr>\n",
       "    <tr>\n",
       "      <th>22220</th>\n",
       "      <td>4.426</td>\n",
       "      <td>16</td>\n",
       "      <td>80.9</td>\n",
       "      <td>3</td>\n",
       "      <td>Home Security Systems</td>\n",
       "    </tr>\n",
       "    <tr>\n",
       "      <th>22221</th>\n",
       "      <td>0.452</td>\n",
       "      <td>15</td>\n",
       "      <td>80.7</td>\n",
       "      <td>3</td>\n",
       "      <td>Home Security Systems</td>\n",
       "    </tr>\n",
       "    <tr>\n",
       "      <th>22222</th>\n",
       "      <td>0.307</td>\n",
       "      <td>15</td>\n",
       "      <td>80.7</td>\n",
       "      <td>3</td>\n",
       "      <td>Home Security Systems</td>\n",
       "    </tr>\n",
       "  </tbody>\n",
       "</table>\n",
       "</div>"
      ],
      "text/plain": [
       "       Power  Hour  Temperature  Cluster             Appliances\n",
       "22218  0.306    15         80.7        3  Home Security Systems\n",
       "22219  0.450    13         76.2        3  Home Security Systems\n",
       "22220  4.426    16         80.9        3  Home Security Systems\n",
       "22221  0.452    15         80.7        3  Home Security Systems\n",
       "22222  0.307    15         80.7        3  Home Security Systems"
      ]
     },
     "execution_count": 302,
     "metadata": {},
     "output_type": "execute_result"
    }
   ],
   "source": [
    "result.tail()"
   ]
  },
  {
   "cell_type": "markdown",
   "metadata": {},
   "source": [
    "I think this makes sense. As apparent from *result* dataframe, in hours like 8, 9, 10 there is a high possibility that a Oven or Geyser is being used. On the other hand during office hours(1000 - 1600), most probably Home Security Appliances are taking the power.<br><br>\n",
    "\n",
    "Starting from the very beginning, i.e. the Data Analysis process, I think with more data we could group it according to the days(for a week's or month's data), or by months(for a year's data). That could've significantly changed the predicted Power values, since the average values over these larger intervals would be smoother.\n",
    "\n",
    "We'd also have to take care of the seasons and temperature, since different appliances would be taking power in different seasons, so clustering would turn into a bit complicated task compared to what we did with data of just one day.<br><br/>\n",
    "\n",
    "The most important data that could help in a more accurate analysis would be the power consumption amount of all the appliances in the house. That way it'd be much easier to understand what appliance is taking more power in a certain period of time. \n",
    "\n",
    "Furthermore, this would also help during the classification task, since we would already know that certain appliances requires much power, hence we could more accurately classify a sample.<br><br>\n",
    "\n",
    "Patterns like the usage of certain appliances or the power consumption during certain periods in a day are quite apparent in this dataset. A machine learning process that can find out a clear distinction between different feature samples would be pretty good in this case, with the size of dataset I would like to go with random forests, since it is one of the best out-of-the-box machine learning model, and since we have adequate amount of samples this should've worked out pretty well.\n",
    "\n",
    "One limitation is the number of features we have in this dataset, to learn new features a simple neural net could also be employed to get some of the hidden patterns here.\n",
    "\n",
    "Related Papers:\n",
    "\n",
    "* http://www.sciencedirect.com/science/article/pii/S037877881200151X\n",
    "* http://cs.gmu.edu/~jessica/publications/astronomy11.pdf"
   ]
  }
 ],
 "metadata": {
  "kernelspec": {
   "display_name": "Python 2",
   "language": "python",
   "name": "python2"
  },
  "language_info": {
   "codemirror_mode": {
    "name": "ipython",
    "version": 2
   },
   "file_extension": ".py",
   "mimetype": "text/x-python",
   "name": "python",
   "nbconvert_exporter": "python",
   "pygments_lexer": "ipython2",
   "version": "2.7.6"
  }
 },
 "nbformat": 4,
 "nbformat_minor": 0
}
